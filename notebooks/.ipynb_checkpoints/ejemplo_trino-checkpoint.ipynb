{
 "cells": [
  {
   "cell_type": "code",
   "execution_count": 2,
   "metadata": {},
   "outputs": [],
   "source": [
    "import trino\n",
    "from dotenv import load_dotenv\n",
    "import os"
   ]
  },
  {
   "cell_type": "code",
   "execution_count": 3,
   "metadata": {},
   "outputs": [],
   "source": [
    "# Cargamos variables de ambiente \n",
    "load_dotenv() \n",
    "\n",
    "# Setear credenciales\n",
    "conn = trino.dbapi.connect(\n",
    "        host=os.environ[\"host\"], # cambiar por IP\n",
    "        port=os.environ[\"port\"], # cambiar puerto\n",
    "        user=os.environ[\"user\"], # cambiar usuario\n",
    "        catalog=os.environ[\"catalog\"], # cambiar catalogo\n",
    "        schema = os.environ[\"schema\"] # cambiar esquema\n",
    ")\n"
   ]
  },
  {
   "cell_type": "code",
   "execution_count": 4,
   "metadata": {},
   "outputs": [
    {
     "data": {
      "text/plain": [
       "[['test']]"
      ]
     },
     "execution_count": 4,
     "metadata": {},
     "output_type": "execute_result"
    }
   ],
   "source": [
    "# Mostremos las tablas que están creadas \n",
    "query = \"show tables\"\n",
    "cursor = conn.cursor()\n",
    "cursor.execute(query)\n",
    "data = cursor.fetchall()\n",
    "data"
   ]
  },
  {
   "cell_type": "code",
   "execution_count": 13,
   "metadata": {},
   "outputs": [],
   "source": [
    "table_name = \"test\"\n",
    "bucket = \"capacitacion-lago-datos\"\n",
    "folder = \"data-ejemplo\"\n",
    "\n",
    "# Esta query elimina la tabla, en caso de que ya exista\n",
    "query_drop = f\"drop table if exists minio.capacitacion.{table_name}\"\n",
    "\n",
    "# La query lee todo lo que hay en un directorio y lo convierte en una tabla de trino \n",
    "query = f\"\"\"\n",
    "    CREATE TABLE minio.capacitacion.{table_name} (\n",
    "        x int,\n",
    "        y int\n",
    "    )\n",
    "    WITH (\n",
    "        format = 'PARQUET', \n",
    "        external_location = 's3a://capacitacion-lago-datos/{folder}'\n",
    "    )\n",
    "    \"\"\"\n",
    "    "
   ]
  },
  {
   "cell_type": "code",
   "execution_count": 14,
   "metadata": {},
   "outputs": [
    {
     "data": {
      "text/plain": [
       "<trino.dbapi.Cursor at 0x7b04c855ded0>"
      ]
     },
     "execution_count": 14,
     "metadata": {},
     "output_type": "execute_result"
    }
   ],
   "source": [
    "# Ejecutamos la query para borrar\n",
    "cursor.execute(query_drop)\n",
    "\n",
    "# ejecutamos la query para crear tabla \n",
    "cursor.execute(query)\n"
   ]
  },
  {
   "cell_type": "code",
   "execution_count": 15,
   "metadata": {},
   "outputs": [
    {
     "data": {
      "text/plain": [
       "[[110]]"
      ]
     },
     "execution_count": 15,
     "metadata": {},
     "output_type": "execute_result"
    }
   ],
   "source": [
    "# Contemos el número de filas de la tabla\n",
    "query = \"select count(*) from test\"\n",
    "cursor = conn.cursor()\n",
    "cursor.execute(query)\n",
    "data = cursor.fetchall()\n",
    "data\n"
   ]
  },
  {
   "cell_type": "code",
   "execution_count": 17,
   "metadata": {},
   "outputs": [
    {
     "data": {
      "text/plain": [
       "[[0, 3], [1, 4], [2, 5], [3, 6], [4, 7], [5, 8]]"
      ]
     },
     "execution_count": 17,
     "metadata": {},
     "output_type": "execute_result"
    }
   ],
   "source": [
    "# Revisemos las primeras filas de la tabla\n",
    "query = \"select * from test limit 6\"\n",
    "cursor = conn.cursor()\n",
    "cursor.execute(query)\n",
    "data = cursor.fetchall()\n",
    "data"
   ]
  },
  {
   "cell_type": "markdown",
   "metadata": {},
   "source": [
    "# Conexión a una base de datos real"
   ]
  },
  {
   "cell_type": "code",
   "execution_count": 21,
   "metadata": {},
   "outputs": [],
   "source": [
    "# Cargamos variables de ambiente \n",
    "load_dotenv(\".env-cd\") \n",
    "\n",
    "# Setear credenciales\n",
    "conn2 = trino.dbapi.connect(\n",
    "        host=os.environ[\"host-cd\"], # cambiar por IP\n",
    "        port=os.environ[\"port-cd\"], # cambiar puerto\n",
    "        user=os.environ[\"user-cd\"], # cambiar usuario\n",
    "        catalog=os.environ[\"catalog-cd\"], # cambiar catalogo\n",
    "        schema = os.environ[\"schema-cd\"] # cambiar esquema\n",
    ")"
   ]
  },
  {
   "cell_type": "code",
   "execution_count": 23,
   "metadata": {},
   "outputs": [
    {
     "data": {
      "text/plain": [
       "[[613190087]]"
      ]
     },
     "execution_count": 23,
     "metadata": {},
     "output_type": "execute_result"
    }
   ],
   "source": [
    "# Contamos el número de filas \n",
    "query = \"select count(*) as frecuencia from hive.staging.suseso_trab_02\"\n",
    "cursor = conn2.cursor()\n",
    "cursor.execute(query)\n",
    "data = cursor.fetchall()\n",
    "data"
   ]
  },
  {
   "cell_type": "code",
   "execution_count": null,
   "metadata": {},
   "outputs": [],
   "source": [
    "query = \"\"\"select anno, mes, count(*) as frecuencia\n",
    "from hive.staging.suseso_trab_02\n",
    "group by anno, mes\n",
    "order by anno, mes\n",
    "\"\"\"\n",
    "cursor = conn2.cursor()\n",
    "cursor.execute(query)\n",
    "data = cursor.fetchall()\n",
    "data"
   ]
  }
 ],
 "metadata": {
  "kernelspec": {
   "display_name": "Python 3 (ipykernel)",
   "language": "python",
   "name": "python3"
  },
  "language_info": {
   "codemirror_mode": {
    "name": "ipython",
    "version": 3
   },
   "file_extension": ".py",
   "mimetype": "text/x-python",
   "name": "python",
   "nbconvert_exporter": "python",
   "pygments_lexer": "ipython3",
   "version": "3.11.6"
  }
 },
 "nbformat": 4,
 "nbformat_minor": 4
}
