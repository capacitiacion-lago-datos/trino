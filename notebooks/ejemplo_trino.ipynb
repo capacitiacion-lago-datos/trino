{
 "cells": [
  {
   "cell_type": "code",
   "execution_count": 3,
   "metadata": {},
   "outputs": [],
   "source": [
    "import trino\n",
    "from dotenv import load_dotenv\n",
    "import os"
   ]
  },
  {
   "cell_type": "code",
   "execution_count": 30,
   "metadata": {},
   "outputs": [],
   "source": [
    "# Cargamos variables de ambiente \n",
    "load_dotenv() \n",
    "\n",
    "# Setear credenciales\n",
    "conn = trino.dbapi.connect(\n",
    "        host=os.environ[\"host\"], # cambiar por IP\n",
    "        port=os.environ[\"port\"], # cambiar puerto\n",
    "        user=os.environ[\"user\"], # cambiar usuario\n",
    "        catalog=os.environ[\"catalog\"], # cambiar catalogo\n",
    "        schema = os.environ[\"schema\"] # cambiar esquema\n",
    ")\n"
   ]
  },
  {
   "cell_type": "code",
   "execution_count": 31,
   "metadata": {},
   "outputs": [
    {
     "data": {
      "text/plain": [
       "[['test'], ['test2']]"
      ]
     },
     "execution_count": 31,
     "metadata": {},
     "output_type": "execute_result"
    }
   ],
   "source": [
    "# Mostremos las tablas que están creadas \n",
    "query = \"show tables\"\n",
    "cursor = conn.cursor()\n",
    "cursor.execute(query)\n",
    "data = cursor.fetchall()\n",
    "data"
   ]
  },
  {
   "cell_type": "code",
   "execution_count": 40,
   "metadata": {},
   "outputs": [],
   "source": [
    "table_name = \"test\"\n",
    "bucket = \"capacitacion-lago-datos\"\n",
    "folder = \"data-ejemplo\"\n",
    "\n",
    "# Esta query elimina la tabla, en caso de que ya exista\n",
    "query_drop = f\"drop table if exists minio.capacitacion.{table_name}\"\n",
    "\n",
    "# La query lee todo lo que hay en un directorio y lo convierte en una tabla de trino \n",
    "query = f\"\"\"\n",
    "    CREATE TABLE minio.capacitacion.{table_name} (\n",
    "        x int,\n",
    "        y int\n",
    "    )\n",
    "    WITH (\n",
    "        format = 'PARQUET', \n",
    "        external_location = 's3a://capacitacion-lago-datos/{folder}'\n",
    "    )\n",
    "    \"\"\"\n",
    "    "
   ]
  },
  {
   "cell_type": "code",
   "execution_count": 41,
   "metadata": {},
   "outputs": [
    {
     "data": {
      "text/plain": [
       "<trino.dbapi.Cursor at 0x1f61af4cb50>"
      ]
     },
     "execution_count": 41,
     "metadata": {},
     "output_type": "execute_result"
    }
   ],
   "source": [
    "\n",
    "# Ejecutamos la query para borrar\n",
    "cursor.execute(query_drop)\n",
    "\n",
    "# ejecutamos la query para crear tabla \n",
    "cursor.execute(query)\n"
   ]
  },
  {
   "cell_type": "code",
   "execution_count": 43,
   "metadata": {},
   "outputs": [
    {
     "data": {
      "text/plain": [
       "[[110]]"
      ]
     },
     "execution_count": 43,
     "metadata": {},
     "output_type": "execute_result"
    }
   ],
   "source": [
    "# Contemos el número de filas de la tabla\n",
    "query = \"select count(*) from test\"\n",
    "cursor = conn.cursor()\n",
    "cursor.execute(query)\n",
    "data = cursor.fetchall()\n",
    "data\n"
   ]
  },
  {
   "cell_type": "code",
   "execution_count": 44,
   "metadata": {},
   "outputs": [
    {
     "data": {
      "text/plain": [
       "[[0, 3], [0, 3]]"
      ]
     },
     "execution_count": 44,
     "metadata": {},
     "output_type": "execute_result"
    }
   ],
   "source": [
    "# Revisemos las primeras filas de la tabla\n",
    "query = \"select * from test limit 2\"\n",
    "cursor = conn.cursor()\n",
    "cursor.execute(query)\n",
    "data = cursor.fetchall()\n",
    "data"
   ]
  }
 ],
 "metadata": {
  "kernelspec": {
   "display_name": "venv",
   "language": "python",
   "name": "python3"
  },
  "language_info": {
   "codemirror_mode": {
    "name": "ipython",
    "version": 3
   },
   "file_extension": ".py",
   "mimetype": "text/x-python",
   "name": "python",
   "nbconvert_exporter": "python",
   "pygments_lexer": "ipython3",
   "version": "3.11.9"
  }
 },
 "nbformat": 4,
 "nbformat_minor": 2
}
