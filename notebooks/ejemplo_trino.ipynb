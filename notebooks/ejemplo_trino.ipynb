{
 "cells": [
  {
   "cell_type": "code",
   "execution_count": 3,
   "metadata": {},
   "outputs": [],
   "source": [
    "import trino\n",
    "from dotenv import load_dotenv\n",
    "import os"
   ]
  },
  {
   "cell_type": "code",
   "execution_count": 4,
   "metadata": {},
   "outputs": [],
   "source": [
    "# Cargamos variables de ambiente \n",
    "load_dotenv(\"env\") \n",
    "\n",
    "# Setear credenciales\n",
    "conn = trino.dbapi.connect(\n",
    "        host=os.environ[\"host\"], # cambiar por IP\n",
    "        port=os.environ[\"port\"], # cambiar puerto\n",
    "        user=os.environ[\"user\"], # cambiar usuario\n",
    "        catalog=os.environ[\"catalog\"], # cambiar catalogo\n",
    "        schema = os.environ[\"schema\"] # cambiar esquema\n",
    ")\n"
   ]
  },
  {
   "cell_type": "code",
   "execution_count": 5,
   "metadata": {},
   "outputs": [
    {
     "data": {
      "text/plain": [
       "'10.94.10.44'"
      ]
     },
     "execution_count": 5,
     "metadata": {},
     "output_type": "execute_result"
    }
   ],
   "source": [
    "# Probemos que se están cargando correctamente las variables de ambiente\n",
    "os.environ[\"host\"]"
   ]
  },
  {
   "cell_type": "code",
   "execution_count": 6,
   "metadata": {},
   "outputs": [
    {
     "data": {
      "text/plain": [
       "[['juane_completo_italiano'],\n",
       " ['klaus'],\n",
       " ['test'],\n",
       " ['test_ignacio'],\n",
       " ['test_javi'],\n",
       " ['test_loreto'],\n",
       " ['test_soyhugo']]"
      ]
     },
     "execution_count": 6,
     "metadata": {},
     "output_type": "execute_result"
    }
   ],
   "source": [
    "# Mostremos las tablas que están creadas \n",
    "query = \"show tables\"\n",
    "cursor = conn.cursor()\n",
    "cursor.execute(query)\n",
    "data = cursor.fetchall()\n",
    "data"
   ]
  },
  {
   "cell_type": "code",
   "execution_count": 11,
   "metadata": {},
   "outputs": [],
   "source": [
    "table_name = \"kl\" \n",
    "bucket = \"capacitacion-lago-datos\"\n",
    "folder = \"data-ejemplo\"\n",
    "\n",
    "# Esta query elimina la tabla, en caso de que ya exista\n",
    "query_drop = f\"drop table if exists minio.capacitacion.{table_name}\"\n",
    "\n",
    "# La query lee todo lo que hay en un directorio y lo convierte en una tabla de trino \n",
    "query = f\"\"\"\n",
    "    CREATE TABLE minio.capacitacion.{table_name} (\n",
    "        x int,\n",
    "        y int\n",
    "    )\n",
    "    WITH (\n",
    "        format = 'PARQUET', \n",
    "        external_location = 's3a://capacitacion-lago-datos/{folder}'\n",
    "    )\n",
    "    \"\"\"\n",
    "    "
   ]
  },
  {
   "cell_type": "code",
   "execution_count": 12,
   "metadata": {},
   "outputs": [
    {
     "data": {
      "text/plain": [
       "<trino.dbapi.Cursor at 0x7d1702149a10>"
      ]
     },
     "execution_count": 12,
     "metadata": {},
     "output_type": "execute_result"
    }
   ],
   "source": [
    "# Ejecutamos la query para borrar\n",
    "cursor.execute(query_drop)\n",
    "\n",
    "# ejecutamos la query para crear tabla \n",
    "cursor.execute(query)\n"
   ]
  },
  {
   "cell_type": "code",
   "execution_count": 13,
   "metadata": {},
   "outputs": [
    {
     "data": {
      "text/plain": [
       "[[110]]"
      ]
     },
     "execution_count": 13,
     "metadata": {},
     "output_type": "execute_result"
    }
   ],
   "source": [
    "# Contemos el número de filas de la tabla\n",
    "query = \"select count(*) from kl\"\n",
    "cursor = conn.cursor()\n",
    "cursor.execute(query)\n",
    "data = cursor.fetchall()\n",
    "data\n"
   ]
  },
  {
   "cell_type": "code",
   "execution_count": 14,
   "metadata": {},
   "outputs": [
    {
     "data": {
      "text/plain": [
       "[[0, 3], [0, 3], [1, 4], [2, 5], [3, 6], [4, 7]]"
      ]
     },
     "execution_count": 14,
     "metadata": {},
     "output_type": "execute_result"
    }
   ],
   "source": [
    "# Revisemos las primeras filas de la tabla\n",
    "query = \"select * from test limit 6\"\n",
    "cursor = conn.cursor()\n",
    "cursor.execute(query)\n",
    "data = cursor.fetchall()\n",
    "data"
   ]
  },
  {
   "cell_type": "markdown",
   "metadata": {},
   "source": [
    "# Conexión a una base de datos real"
   ]
  },
  {
   "cell_type": "code",
   "execution_count": 15,
   "metadata": {},
   "outputs": [],
   "source": [
    "# Cargamos variables de ambiente \n",
    "load_dotenv(\".env-cd\") \n",
    "\n",
    "# Setear credenciales\n",
    "conn2 = trino.dbapi.connect(\n",
    "        host=os.environ[\"host-cd\"], # cambiar por IP\n",
    "        port=os.environ[\"port-cd\"], # cambiar puerto\n",
    "        user=os.environ[\"user-cd\"], # cambiar usuario\n",
    "        catalog=os.environ[\"catalog-cd\"], # cambiar catalogo\n",
    "        schema = os.environ[\"schema-cd\"] # cambiar esquema\n",
    ")"
   ]
  },
  {
   "cell_type": "code",
   "execution_count": 16,
   "metadata": {},
   "outputs": [
    {
     "data": {
      "text/plain": [
       "[[613190087]]"
      ]
     },
     "execution_count": 16,
     "metadata": {},
     "output_type": "execute_result"
    }
   ],
   "source": [
    "# Contamos el número de filas \n",
    "query = \"select count(*) as frecuencia from hive.staging.suseso_trab_02\"\n",
    "cursor = conn2.cursor()\n",
    "cursor.execute(query)\n",
    "data = cursor.fetchall()\n",
    "data"
   ]
  },
  {
   "cell_type": "code",
   "execution_count": 17,
   "metadata": {},
   "outputs": [
    {
     "data": {
      "text/plain": [
       "[[2017, 1, 6197971],\n",
       " [2017, 2, 5840818],\n",
       " [2017, 3, 5887730],\n",
       " [2017, 4, 6073996],\n",
       " [2017, 5, 5891923],\n",
       " [2017, 6, 5831381],\n",
       " [2017, 7, 5915631],\n",
       " [2017, 8, 5839972],\n",
       " [2017, 9, 5674671],\n",
       " [2017, 10, 5976835],\n",
       " [2017, 11, 5852718],\n",
       " [2017, 12, 5987654],\n",
       " [2018, 1, 6362405],\n",
       " [2018, 2, 6073834],\n",
       " [2018, 3, 5990030],\n",
       " [2018, 4, 6354448],\n",
       " [2018, 5, 6127041],\n",
       " [2018, 6, 5999110],\n",
       " [2018, 7, 6118352],\n",
       " [2018, 8, 6004328],\n",
       " [2018, 9, 5988507],\n",
       " [2018, 10, 6172951],\n",
       " [2018, 11, 6117840],\n",
       " [2018, 12, 6273951],\n",
       " [2019, 1, 6660643],\n",
       " [2019, 2, 6333274],\n",
       " [2019, 3, 6336219],\n",
       " [2019, 4, 6571471],\n",
       " [2019, 5, 6327665],\n",
       " [2019, 6, 6209724],\n",
       " [2019, 7, 6347441],\n",
       " [2019, 8, 6770690],\n",
       " [2019, 9, 6714643],\n",
       " [2019, 10, 6846434],\n",
       " [2019, 11, 6692279],\n",
       " [2019, 12, 6901893],\n",
       " [2020, 1, 7273711],\n",
       " [2020, 2, 6856915],\n",
       " [2020, 3, 6960590],\n",
       " [2020, 4, 6792658],\n",
       " [2020, 5, 6585545],\n",
       " [2020, 6, 6384053],\n",
       " [2020, 7, 6652286],\n",
       " [2020, 8, 6375045],\n",
       " [2020, 9, 6403377],\n",
       " [2020, 10, 6742897],\n",
       " [2020, 11, 6567794],\n",
       " [2020, 12, 6943198],\n",
       " [2021, 1, 7373167],\n",
       " [2021, 2, 6986730],\n",
       " [2021, 3, 7083809],\n",
       " [2021, 4, 7322372],\n",
       " [2021, 5, 6865864],\n",
       " [2021, 6, 6841935],\n",
       " [2021, 7, 7031028],\n",
       " [2021, 8, 6929867],\n",
       " [2021, 9, 6896870],\n",
       " [2021, 10, 7216548],\n",
       " [2021, 11, 7016626],\n",
       " [2021, 12, 7302902],\n",
       " [2022, 1, 7709754],\n",
       " [2022, 2, 7289103],\n",
       " [2022, 3, 7300390],\n",
       " [2022, 4, 7651338],\n",
       " [2022, 5, 7236050],\n",
       " [2022, 6, 7190137],\n",
       " [2022, 7, 7401560],\n",
       " [2022, 8, 7309881],\n",
       " [2022, 9, 7299707],\n",
       " [2022, 10, 7372732],\n",
       " [2022, 11, 7259359],\n",
       " [2022, 12, 7811424],\n",
       " [2023, 1, 7917695],\n",
       " [2023, 2, 7475267],\n",
       " [2023, 3, 9532591],\n",
       " [2023, 4, 7605010],\n",
       " [2023, 5, 7261546],\n",
       " [2023, 6, 7309771],\n",
       " [2023, 7, 7394702],\n",
       " [2023, 8, 7212871],\n",
       " [2023, 9, 7149448],\n",
       " [2023, 10, 7390261],\n",
       " [2023, 11, 7259617],\n",
       " [2023, 12, 7338003],\n",
       " [2024, 1, 7874288],\n",
       " [2024, 2, 7537543],\n",
       " [2024, 3, 7300080],\n",
       " [2024, 4, 7631134],\n",
       " [2024, 5, 7290462],\n",
       " [2024, 6, 7206103]]"
      ]
     },
     "execution_count": 17,
     "metadata": {},
     "output_type": "execute_result"
    }
   ],
   "source": [
    "query = \"\"\"select anno, mes, count(*) as frecuencia\n",
    "from hive.staging.suseso_trab_02\n",
    "group by anno, mes\n",
    "order by anno, mes\n",
    "\"\"\"\n",
    "cursor = conn2.cursor()\n",
    "cursor.execute(query)\n",
    "data = cursor.fetchall()\n",
    "data"
   ]
  }
 ],
 "metadata": {
  "kernelspec": {
   "display_name": "Python 3 (ipykernel)",
   "language": "python",
   "name": "python3"
  },
  "language_info": {
   "codemirror_mode": {
    "name": "ipython",
    "version": 3
   },
   "file_extension": ".py",
   "mimetype": "text/x-python",
   "name": "python",
   "nbconvert_exporter": "python",
   "pygments_lexer": "ipython3",
   "version": "3.11.6"
  }
 },
 "nbformat": 4,
 "nbformat_minor": 4
}
